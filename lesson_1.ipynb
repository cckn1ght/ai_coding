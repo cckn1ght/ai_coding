{
 "cells": [
  {
   "cell_type": "markdown",
   "metadata": {},
   "source": [
    "# 什么是编程语言"
   ]
  },
  {
   "cell_type": "markdown",
   "metadata": {},
   "source": [
    "编程语言是一种工具，就像盖房子需要工具，编程语言就是编写计算机和手机程序的工具。熟练掌握编程语言之后，我们就可以在计算机的世界里自由地遨游了，不管你想要搭建一个酷炫的个人网站、创建一个让大家都觉得有趣的手机游戏或是利用人工智能技术去分析股票的走势，都可以使用编程语言帮你实现。世界上有很多不同的编程语言，我们现在要学的是 Python 语言。为什么学 Python 以及 Python 语言的优势我们将在下面的课程中逐步进行展现。"
   ]
  },
  {
   "cell_type": "markdown",
   "metadata": {},
   "source": [
    "首先让我们来实现一个最简单的程序吧：在屏幕上输出一行字：Hello World!"
   ]
  },
  {
   "cell_type": "code",
   "execution_count": 1,
   "metadata": {
    "collapsed": false
   },
   "outputs": [
    {
     "name": "stdout",
     "output_type": "stream",
     "text": [
      "Hello World!\n"
     ]
    }
   ],
   "source": [
    "print(\"Hello World!\")"
   ]
  },
  {
   "cell_type": "markdown",
   "metadata": {},
   "source": [
    "没错，就是这么简单！\n",
    "「print」 在这里是一个函数，或者说方法，关于什么是函数我们在后面会做更多说明。然后 「print」 当中的被双引号包围的 「Hello World!」 在程序语言的范畴里叫做 「字符串」（string）。Python 中的字符串被单引号或者双引号包围。字符串表示的就是一些字符内容。\n",
    "\n",
    "既然 Python 是计算机编程语言，那么它一定能做一些计算。比如说我希望使用 Python 来帮助我计算一些简单的问题：\n",
    "1. 3 + 5 = ？\n",
    "2. (3 + 2) * 10 / 2 = ?\n",
    "如何实现呢？在 Python 以及大部分编程里面，简单的算术都不需要任何小技巧就能实现，我们只需要把上面的算式中等号左边的内容原样输入 Python 就可以了。"
   ]
  },
  {
   "cell_type": "code",
   "execution_count": 3,
   "metadata": {
    "collapsed": false
   },
   "outputs": [
    {
     "data": {
      "text/plain": [
       "8"
      ]
     },
     "execution_count": 3,
     "metadata": {},
     "output_type": "execute_result"
    }
   ],
   "source": [
    "3 + 5"
   ]
  },
  {
   "cell_type": "code",
   "execution_count": 8,
   "metadata": {
    "collapsed": false
   },
   "outputs": [
    {
     "data": {
      "text/plain": [
       "25.0"
      ]
     },
     "execution_count": 8,
     "metadata": {},
     "output_type": "execute_result"
    }
   ],
   "source": [
    "(3 + 2) * 10 / 2"
   ]
  },
  {
   "cell_type": "markdown",
   "metadata": {},
   "source": [
    "上述式子中存在两个角色，数字和操作符，这跟我们数学上的定义是相同的。\n",
    "目前为止我们看到了三个概念，字符串、数字和操作符。首先要分清楚字符串和数字，下面是一些字符串：\n",
    "1. \"this is a string\"\n",
    "2. 'this is also a string'\n",
    "3. \"5\"\n",
    "4. '3'\n",
    "下面是一些数字：\n",
    "1. 5\n",
    "2. 3"
   ]
  },
  {
   "cell_type": "markdown",
   "metadata": {},
   "source": [
    "那我们现在来看一下另一个重要的角色：变量。\n",
    "我们可以把变量看成是一个容器，容器里面当然可以存放各种各样的东西，比如之前遇到的数字和字符串。把数字或者字符串放入变量的过程称为「变量赋值」。下面我们把 3 这个数字赋值给一个叫 「a」的变量，把 5 赋值给「b」。"
   ]
  },
  {
   "cell_type": "code",
   "execution_count": 41,
   "metadata": {
    "collapsed": false
   },
   "outputs": [],
   "source": [
    "a = 3\n",
    "b = 5"
   ]
  },
  {
   "cell_type": "markdown",
   "metadata": {},
   "source": [
    "赋值的语法就是这样：左边是变量名，中间有一个等号，右边是想要放入这个变量中的数据。变量跟它右边的数据是完全等价的。既然变量跟数据是等价的，那让我们用变量来改写之前的算式 3 + 5 "
   ]
  },
  {
   "cell_type": "code",
   "execution_count": 42,
   "metadata": {
    "collapsed": false
   },
   "outputs": [
    {
     "data": {
      "text/plain": [
       "8"
      ]
     },
     "execution_count": 42,
     "metadata": {},
     "output_type": "execute_result"
    }
   ],
   "source": [
    "a = 3\n",
    "b = 5\n",
    "a + b"
   ]
  },
  {
   "cell_type": "markdown",
   "metadata": {},
   "source": [
    "运行完之后我们可以看到输出的结果和 3 + 5 输出的结果完全一样。接下来我们看一下将字符串赋值给变量并改写我们的第一个程序 -- Hello World!"
   ]
  },
  {
   "cell_type": "code",
   "execution_count": 43,
   "metadata": {
    "collapsed": false
   },
   "outputs": [
    {
     "name": "stdout",
     "output_type": "stream",
     "text": [
      "Hello World!\n"
     ]
    }
   ],
   "source": [
    "h = 'Hello World!'\n",
    "print(h)"
   ]
  },
  {
   "cell_type": "markdown",
   "metadata": {},
   "source": [
    "在 Python 的世界里，字符串也可以和数字进行一些操作。比如像下面这样："
   ]
  },
  {
   "cell_type": "code",
   "execution_count": 46,
   "metadata": {
    "collapsed": false
   },
   "outputs": [
    {
     "name": "stdout",
     "output_type": "stream",
     "text": [
      "wordwordword\n"
     ]
    }
   ],
   "source": [
    "word = 'word'\n",
    "# 将 word 这个变量所代表的字符串，也就是 'word' (注意这两个 「word」 的区别，一个是变量名，一个是字符串，它们只是碰巧内容一样而已)，复制三倍。\n",
    "triple_word = word * 3\n",
    "print(triple_word)"
   ]
  },
  {
   "cell_type": "markdown",
   "metadata": {},
   "source": [
    "上面的例子中出现了一个之前没有看到过的句式：一句以 # 开头的文字。这里的 # 在 Python 里面叫做注释符，它后面的内容相当于是对代码的注释，程序是不会将它作为一段可执行代码去运行的，换句话说，这行字一般来说是给阅读代码的人而不是机器看的。\n",
    "下面我们以几段代码来复习下我们这节课的内容："
   ]
  },
  {
   "cell_type": "code",
   "execution_count": 47,
   "metadata": {
    "collapsed": false
   },
   "outputs": [
    {
     "name": "stdout",
     "output_type": "stream",
     "text": [
      "Hello World!\n",
      "Hello World!\n",
      "Hello World!\n",
      "Hello World!\n",
      "Hello World!\n"
     ]
    }
   ],
   "source": [
    "# 打印 Hello World! 的几种方式：\n",
    "print('Hello World!')\n",
    "print(\"Hello World!\")\n",
    "# 使用变量来替代字符串\n",
    "greeting = 'Hello World!'\n",
    "print(greeting)\n",
    "# 聪明的你能想到字符串之间的加号是什么作用么？\n",
    "print('Hello ' + 'World!')\n",
    "hello = \"Hello \"\n",
    "print(hello + \"World!\")"
   ]
  },
  {
   "cell_type": "code",
   "execution_count": 49,
   "metadata": {
    "collapsed": false
   },
   "outputs": [
    {
     "name": "stdout",
     "output_type": "stream",
     "text": [
      "32\n",
      "32\n",
      "Hello! Hello! Hello! Hello! Hello! Hello! Hello! Hello! \n"
     ]
    }
   ],
   "source": [
    "# 另外几个数字的例子\n",
    "print(8 * 4)\n",
    "# 使用变量\n",
    "eight = 8\n",
    "print(eight * 4)\n",
    "# 字符串和数字的乘法操作\n",
    "hello = 'Hello! '\n",
    "print(hello * eight)"
   ]
  },
  {
   "cell_type": "markdown",
   "metadata": {},
   "source": [
    "这节课我们学习了基础的字符串和数字的用法，还有特别有用的 print 函数，下节课我们将深入解释什么是函数。"
   ]
  }
 ],
 "metadata": {
  "kernelspec": {
   "display_name": "Python 3",
   "language": "python",
   "name": "python3"
  },
  "language_info": {
   "codemirror_mode": {
    "name": "ipython",
    "version": 3
   },
   "file_extension": ".py",
   "mimetype": "text/x-python",
   "name": "python",
   "nbconvert_exporter": "python",
   "pygments_lexer": "ipython3",
   "version": "3.6.0"
  }
 },
 "nbformat": 4,
 "nbformat_minor": 2
}
